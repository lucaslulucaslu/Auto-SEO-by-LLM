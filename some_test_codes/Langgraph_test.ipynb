{
 "cells": [
  {
   "cell_type": "code",
   "execution_count": 25,
   "metadata": {},
   "outputs": [
    {
     "name": "stdout",
     "output_type": "stream",
     "text": [
      "{'graph1_node1': {'a': 1}}\n",
      "{'graph1_node2': {'b': 1}}\n"
     ]
    }
   ],
   "source": [
    "from langgraph.graph import StateGraph,START,END\n",
    "from pydantic import BaseModel\n",
    "\n",
    "class GraphState1(BaseModel):\n",
    "    a: int = 0\n",
    "    b: int = 0\n",
    "\n",
    "def graph1_node1(state: GraphState1):\n",
    "    a=state.a\n",
    "    a+=1\n",
    "    return {\"a\":a}\n",
    "def graph1_node2(state: GraphState1):\n",
    "    b=state.b\n",
    "    b+=1\n",
    "    return {\"b\":b}\n",
    "\n",
    "\n",
    "graph1=StateGraph(GraphState1)\n",
    "graph1.add_node(graph1_node1.__name__,graph1_node1)\n",
    "graph1.add_node(graph1_node2.__name__,graph1_node2)\n",
    "graph1.add_edge(START,graph1_node1.__name__)\n",
    "graph1.add_edge(graph1_node1.__name__,graph1_node2.__name__)\n",
    "graph1.add_edge(graph1_node2.__name__,END)\n",
    "graph1_app= graph1.compile()\n",
    "\n",
    "async for chunk in graph1_app.astream({\"a\":0,\"b\":0}):\n",
    "    print(chunk)"
   ]
  },
  {
   "cell_type": "code",
   "execution_count": 27,
   "metadata": {},
   "outputs": [
    {
     "name": "stdout",
     "output_type": "stream",
     "text": [
      "{'a': 0, 'b': 0}\n",
      "{'a': 1, 'b': 0}\n",
      "{'a': 1, 'b': 1}\n"
     ]
    }
   ],
   "source": [
    "class GraphState2(BaseModel):\n",
    "    c: int = 0\n",
    "    d: int = 0\n",
    "\n",
    "async def graph2_node1(state: GraphState2):\n",
    "    async for chunk in graph1_app.astream({\"a\":0,\"b\":0},stream_mode=\"updates\"):\n",
    "        print(chunk)\n",
    "    c=state.c\n",
    "    c+=1\n",
    "    return {\"c\":c}\n",
    "def graph2_node2(state: GraphState2):\n",
    "    d=state.d\n",
    "    d+=1\n",
    "    return {\"d\":d}\n",
    "\n",
    "graph2=StateGraph(GraphState2)\n",
    "graph2.add_node(graph2_node1.__name__,graph2_node1)\n",
    "graph2.add_node(graph2_node2.__name__,graph2_node2)\n",
    "graph2.add_edge(START,graph2_node1.__name__)\n",
    "graph2.add_edge(graph2_node1.__name__,graph2_node2.__name__)\n",
    "graph2.add_edge(graph2_node2.__name__,END)\n",
    "graph2_app= graph2.compile()\n",
    "\n",
    "async for chunk in graph2_app.astream_events({\"c\":0,\"d\":0},version=\"v2\"):\n",
    "    pass"
   ]
  },
  {
   "cell_type": "code",
   "execution_count": 23,
   "metadata": {},
   "outputs": [
    {
     "ename": "ValueError",
     "evalue": "control character (\\u0000-\\u001F) found while parsing a string at line 2 column 0",
     "output_type": "error",
     "traceback": [
      "\u001b[1;31m---------------------------------------------------------------------------\u001b[0m",
      "\u001b[1;31mValueError\u001b[0m                                Traceback (most recent call last)",
      "Cell \u001b[1;32mIn[23], line 5\u001b[0m\n\u001b[0;32m      1\u001b[0m \u001b[38;5;28;01mfrom\u001b[39;00m \u001b[38;5;21;01mpydantic_core\u001b[39;00m  \u001b[38;5;28;01mimport\u001b[39;00m from_json\n\u001b[0;32m      3\u001b[0m json_string\u001b[38;5;241m=\u001b[39m\u001b[38;5;124m\"\"\"\u001b[39m\u001b[38;5;124m{\u001b[39m\u001b[38;5;124m\"\u001b[39m\u001b[38;5;124ma\u001b[39m\u001b[38;5;124m\"\u001b[39m\u001b[38;5;124m:1,\u001b[39m\u001b[38;5;124m\"\u001b[39m\u001b[38;5;124mb\u001b[39m\u001b[38;5;124m\"\u001b[39m\u001b[38;5;124m:\u001b[39m\u001b[38;5;124m\"\u001b[39m\u001b[38;5;124m123\u001b[39m\u001b[38;5;130;01m\\n\u001b[39;00m\u001b[38;5;124m123\u001b[39m\u001b[38;5;124m\"\u001b[39m\u001b[38;5;124m}\u001b[39m\u001b[38;5;124m\"\"\"\u001b[39m\n\u001b[1;32m----> 5\u001b[0m json_result\u001b[38;5;241m=\u001b[39m\u001b[43mfrom_json\u001b[49m\u001b[43m(\u001b[49m\u001b[43mjson_string\u001b[49m\u001b[43m)\u001b[49m\n\u001b[0;32m      7\u001b[0m \u001b[38;5;28mprint\u001b[39m(json_result)\n",
      "\u001b[1;31mValueError\u001b[0m: control character (\\u0000-\\u001F) found while parsing a string at line 2 column 0"
     ]
    }
   ],
   "source": [
    "from pydantic_core  import from_json\n",
    "\n",
    "json_string=\"\"\"{\"a\":1,\"b\":\"123\\n123\"}\"\"\"\n",
    "\n",
    "json_result=from_json(json_string)\n",
    "\n",
    "print(json_result)"
   ]
  },
  {
   "cell_type": "code",
   "execution_count": null,
   "metadata": {},
   "outputs": [],
   "source": []
  }
 ],
 "metadata": {
  "kernelspec": {
   "display_name": "venv",
   "language": "python",
   "name": "python3"
  },
  "language_info": {
   "codemirror_mode": {
    "name": "ipython",
    "version": 3
   },
   "file_extension": ".py",
   "mimetype": "text/x-python",
   "name": "python",
   "nbconvert_exporter": "python",
   "pygments_lexer": "ipython3",
   "version": "3.12.7"
  }
 },
 "nbformat": 4,
 "nbformat_minor": 2
}
