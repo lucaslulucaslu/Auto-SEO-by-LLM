{
 "cells": [
  {
   "cell_type": "code",
   "execution_count": 2,
   "metadata": {},
   "outputs": [],
   "source": [
    "from langchain_community.document_loaders import DirectoryLoader\n",
    "from langchain_community.document_loaders import TextLoader\n",
    "from pydantic import BaseModel\n",
    "from langchain_text_splitters import RecursiveCharacterTextSplitter"
   ]
  },
  {
   "cell_type": "code",
   "execution_count": 3,
   "metadata": {},
   "outputs": [
    {
     "data": {
      "text/plain": [
       "995"
      ]
     },
     "execution_count": 3,
     "metadata": {},
     "output_type": "execute_result"
    }
   ],
   "source": [
    "text_loader_kwargs = {\"autodetect_encoding\": True}\n",
    "loader = DirectoryLoader(\"../College-Information-LLM/KnowledgeBase/lxsq/\",loader_cls=TextLoader,loader_kwargs=text_loader_kwargs)\n",
    "docs_lxsq = loader.load()\n",
    "loader = DirectoryLoader(\"../College-Information-LLM/KnowledgeBase/lxbd/\",loader_cls=TextLoader,loader_kwargs=text_loader_kwargs)\n",
    "docs_lxbd = loader.load()\n",
    "loader = DirectoryLoader(\"../College-Information-LLM/KnowledgeBase/emergency/\",loader_cls=TextLoader,loader_kwargs=text_loader_kwargs)\n",
    "docs_emergency = loader.load()\n",
    "docs=docs_lxsq+docs_lxbd+docs_emergency\n",
    "len(docs)"
   ]
  },
  {
   "cell_type": "code",
   "execution_count": 4,
   "metadata": {},
   "outputs": [],
   "source": [
    "text_splitter = RecursiveCharacterTextSplitter(chunk_size=2000, chunk_overlap=0)\n",
    "chunked_docs = text_splitter.split_documents(docs)"
   ]
  },
  {
   "cell_type": "code",
   "execution_count": 7,
   "metadata": {},
   "outputs": [],
   "source": [
    "class SingleMessage(BaseModel):\n",
    "    role:str\n",
    "    content:str\n",
    "\n",
    "class Messages(BaseModel):\n",
    "    messages:list[SingleMessage]\n"
   ]
  },
  {
   "cell_type": "code",
   "execution_count": 8,
   "metadata": {},
   "outputs": [],
   "source": [
    "with open(\"fine_tune.jsonl\",\"w\", encoding=\"utf-8\") as f:\n",
    "    for doc in chunked_docs:\n",
    "        content=doc.page_content.lstrip(\"\\n \").rstrip(\"\\n \")\n",
    "\n",
    "        system_message = SingleMessage(role=\"system\",content=\"你是一名美国续航教育公司专注于美国大学新闻的年轻评论员（25岁上下，女性，来自中国并在美国大学研究生毕业），你的评论风格偏向于年轻化、轻松化，你习惯称呼自己为小编，并会在评论文章中加入自己独到的见解。你的用词多样富有变化，不平淡。\")\n",
    "        user_message = SingleMessage(role=\"user\",content=\"写作一篇关于美国留学相关内容的文章。\") \n",
    "        assitant_message = SingleMessage(role=\"assistant\",content=content)\n",
    "\n",
    "        messages = Messages(messages=[system_message,user_message,assitant_message])\n",
    "\n",
    "        f.write(messages.model_dump_json()+\"\\n\")"
   ]
  }
 ],
 "metadata": {
  "kernelspec": {
   "display_name": "venv",
   "language": "python",
   "name": "python3"
  },
  "language_info": {
   "codemirror_mode": {
    "name": "ipython",
    "version": 3
   },
   "file_extension": ".py",
   "mimetype": "text/x-python",
   "name": "python",
   "nbconvert_exporter": "python",
   "pygments_lexer": "ipython3",
   "version": "3.12.7"
  }
 },
 "nbformat": 4,
 "nbformat_minor": 2
}
