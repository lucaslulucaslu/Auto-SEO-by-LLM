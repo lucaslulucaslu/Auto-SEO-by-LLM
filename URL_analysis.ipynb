{
 "cells": [
  {
   "cell_type": "code",
   "execution_count": 1,
   "id": "15eff096-149b-496c-a747-1c530d5b151a",
   "metadata": {},
   "outputs": [],
   "source": [
    "import pandas as pd"
   ]
  },
  {
   "cell_type": "code",
   "execution_count": 36,
   "id": "770a6af9-cc3f-4e25-8737-c2ec36a3ed26",
   "metadata": {},
   "outputs": [],
   "source": [
    "urls=pd.read_csv(\"urls.csv\")"
   ]
  },
  {
   "cell_type": "code",
   "execution_count": 37,
   "id": "c2b44cbc-715e-4391-9646-e85686498cf3",
   "metadata": {},
   "outputs": [],
   "source": [
    "x=urls.tail(50).sum()"
   ]
  },
  {
   "cell_type": "code",
   "execution_count": 38,
   "id": "06f95b2b-6fcb-4032-8681-e62c28bbbd1d",
   "metadata": {},
   "outputs": [
    {
     "data": {
      "text/plain": [
       "Duke    0\n",
       "Rice    0\n",
       "dtype: object"
      ]
     },
     "execution_count": 38,
     "metadata": {},
     "output_type": "execute_result"
    }
   ],
   "source": [
    "x[x==0]"
   ]
  },
  {
   "cell_type": "code",
   "execution_count": null,
   "id": "bc52f857-80e6-45a4-8088-24651920e34f",
   "metadata": {},
   "outputs": [],
   "source": []
  }
 ],
 "metadata": {
  "kernelspec": {
   "display_name": "Python 3 (ipykernel)",
   "language": "python",
   "name": "python3"
  },
  "language_info": {
   "codemirror_mode": {
    "name": "ipython",
    "version": 3
   },
   "file_extension": ".py",
   "mimetype": "text/x-python",
   "name": "python",
   "nbconvert_exporter": "python",
   "pygments_lexer": "ipython3",
   "version": "3.12.3"
  }
 },
 "nbformat": 4,
 "nbformat_minor": 5
}
