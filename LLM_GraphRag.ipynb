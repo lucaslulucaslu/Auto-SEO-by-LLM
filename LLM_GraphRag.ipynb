{
 "cells": [
  {
   "cell_type": "code",
   "execution_count": null,
   "id": "590e0798-ba12-4aaf-9f46-b00b064d0219",
   "metadata": {},
   "outputs": [],
   "source": [
    "import os\n",
    "\n",
    "import requests\n",
    "from bs4 import BeautifulSoup\n",
    "from langchain_community.document_loaders import WikipediaLoader\n",
    "from langchain_community.graphs import Neo4jGraph\n",
    "from langchain_core.documents import Document\n",
    "from langchain_experimental.graph_transformers import LLMGraphTransformer\n",
    "from langchain_text_splitters import RecursiveCharacterTextSplitter\n",
    "from langchain_openai import ChatOpenAI\n",
    "\n",
    "os.environ[\"NEO4J_URI\"] = \"bolt://localhost:7687\"\n",
    "os.environ[\"NEO4J_USERNAME\"] = \"neo4j\"\n",
    "os.environ[\"NEO4J_PASSWORD\"] = \"password\"\n",
    "\n",
    "\n",
    "os.environ[\"LANGCHAIN_TRACING_V2\"] = \"true\"\n",
    "os.environ[\"LANGCHAIN_PROJECT\"] = \"GraphRAG\"\n",
    "\n",
    "llm = ChatOpenAI(temperature=0, model_name=\"gpt-4o-mini\")\n",
    "\n",
    "graph = Neo4jGraph()"
   ]
  },
  {
   "cell_type": "markdown",
   "id": "a31709ce-1c56-4211-b117-c84baf57d7d8",
   "metadata": {
    "jupyter": {
     "source_hidden": true
    },
    "scrolled": true
   },
   "source": [
    "llm_transformer = LLMGraphTransformer(\n",
    "    allowed_nodes=[\n",
    "        \"Person\",\n",
    "        \"College\",\n",
    "        \"University\",\n",
    "        \"Organization\",\n",
    "        \"Institute\",\n",
    "        \"Business\",\n",
    "    ],\n",
    "    strict_mode=False,\n",
    "    llm=llm,\n",
    "    node_properties=True,\n",
    ")\n",
    "colleges = [\n",
    "    \"https://edurank.org/uni/princeton-university/alumni/\",\n",
    "    \"https://edurank.org/uni/harvard-university/alumni/\",\n",
    "    \"https://edurank.org/uni/stanford-university/alumni/\",\n",
    "    \"https://edurank.org/uni/university-of-michigan-ann-arbor/alumni/\",\n",
    "    \"https://edurank.org/uni/cornell-university/alumni/\",\n",
    "    \"https://edurank.org/uni/university-of-california-berkeley/alumni/\",\n",
    "    \"https://edurank.org/uni/massachusetts-institute-of-technology/alumni\",\n",
    "    \"https://edurank.org/uni/columbia-university-in-the-city-of-new-york/alumni/\",\n",
    "    \"https://edurank.org/uni/university-of-washington-seattle-campus/alumni/\",\n",
    "    \"https://edurank.org/uni/johns-hopkins-university/alumni/\",\n",
    "    \"https://edurank.org/uni/university-of-california-los-angeles/alumni/\",\n",
    "]\n",
    "docs = []\n",
    "for college in colleges:\n",
    "    list_page = requests.get(college, verify=False)\n",
    "    soup = BeautifulSoup(list_page.text, \"html.parser\")\n",
    "    celebrity_names = soup.select(\"li.alumni h2.alumni__name\")\n",
    "    names = [element.text for element in celebrity_names]\n",
    "    for name in names:\n",
    "        new_docs = WikipediaLoader(\n",
    "            query=name, load_max_docs=2, doc_content_chars_max=100000\n",
    "        ).load()\n",
    "        graph_documents_props = llm_transformer.convert_to_graph_documents(new_docs)\n",
    "        graph.add_graph_documents(graph_documents_props)\n",
    "        docs = docs + new_docs\n",
    "        print(college, \" - \", name, \" - done!\")"
   ]
  },
  {
   "cell_type": "code",
   "execution_count": 17,
   "id": "7b16badb-1035-4094-bb30-62a484e10323",
   "metadata": {},
   "outputs": [],
   "source": [
    "llm_transformer = LLMGraphTransformer(\n",
    "    llm=llm,\n",
    "    node_properties=True,\n",
    ")\n",
    "name=\"John F. Kennedy\"\n",
    "new_docs = WikipediaLoader(\n",
    "    query=name, load_max_docs=1, doc_content_chars_max=100000\n",
    ").load()\n",
    "text_splitter = RecursiveCharacterTextSplitter(chunk_size=10000, chunk_overlap=1000)\n",
    "splitted_docs = text_splitter.split_documents(new_docs)\n",
    "for doc in splitted_docs:\n",
    "    graph_documents_props = llm_transformer.convert_to_graph_documents([doc])\n",
    "    graph.add_graph_documents(graph_documents_props)"
   ]
  },
  {
   "cell_type": "code",
   "execution_count": 16,
   "id": "94279788-6b10-4032-85f0-f9591f200935",
   "metadata": {},
   "outputs": [
    {
     "data": {
      "text/plain": [
       "76"
      ]
     },
     "execution_count": 16,
     "metadata": {},
     "output_type": "execute_result"
    }
   ],
   "source": [
    "len(splitted_docs)"
   ]
  },
  {
   "cell_type": "code",
   "execution_count": 18,
   "id": "3743e524-8e8c-4690-a4dc-2285135f615c",
   "metadata": {},
   "outputs": [
    {
     "data": {
      "text/plain": [
       "[GraphDocument(nodes=[Node(id='John F. Kennedy', type='Person', properties={'role': 'President', 'religion': 'Roman Catholic', 'birthdate': 'June 19, 1917'}), Node(id='Boston Red Sox', type='Sports team', properties={'league': 'Major League Baseball'}), Node(id='Boston Celtics', type='Sports team', properties={'league': 'National Basketball Association'}), Node(id='Hyannisport Club', type='Location', properties={'type': 'Golf Club', 'location': 'Massachusetts'}), Node(id='Palm Beach Country Club', type='Location', properties={'type': 'Golf Club', 'location': 'Florida'}), Node(id='Camelot', type='Concept', properties={'description': \"Mythic grandeur of Kennedy's presidency\"}), Node(id='Laetare Medal', type='Award', properties={'yearAwarded': '1961', 'description': 'Most prestigious award for American Catholics'}), Node(id='Pacem In Terris Award', type='Award', properties={'description': 'Peace on Earth', 'awardedPosthumously': 'True'}), Node(id='Presidential Medal Of Freedom', type='Award', properties={'awardedPosthumously': 'True'}), Node(id='John F. Kennedy International Airport', type='Location', properties={'formerlyKnownAs': 'Idlewild Airport', 'renamedOn': 'December 24, 1963'}), Node(id='John F. Kennedy Space Center', type='Location', properties={'formerlyKnownAs': 'NASA Launch Operations Center', 'renamedOn': 'November 29, 1963'}), Node(id='Uss John F. Kennedy (Cv-67)', type='Vessel', properties={'type': 'U.S. Navy aircraft carrier', 'orderedOn': 'April 1964', 'launchedOn': 'May 1967', 'decommissionedOn': 'August 2007', 'nickname': 'Big John'}), Node(id='John F. Kennedy School Of Government', type='Institution', properties={'partOf': 'Harvard University', 'renamedIn': '1966'}), Node(id='John F. Kennedy Federal Building', type='Location', properties={'openedIn': '1966', 'location': 'Boston'}), Node(id='John Fitzgerald Kennedy Memorial', type='Location', properties={'openedIn': '1970', 'location': 'Dallas'}), Node(id='John F. Kennedy Center For The Performing Arts', type='Location', properties={'openedIn': '1971', 'location': 'Washington, D.C.'})], relationships=[Relationship(source=Node(id='John F. Kennedy', type='Person'), target=Node(id='Boston Red Sox', type='Sports team'), type='FAN_OF'), Relationship(source=Node(id='John F. Kennedy', type='Person'), target=Node(id='Boston Celtics', type='Sports team'), type='FAN_OF'), Relationship(source=Node(id='John F. Kennedy', type='Person'), target=Node(id='Hyannisport Club', type='Location'), type='PLAYED_GOLF_AT'), Relationship(source=Node(id='John F. Kennedy', type='Person'), target=Node(id='Palm Beach Country Club', type='Location'), type='PLAYED_GOLF_AT'), Relationship(source=Node(id='John F. Kennedy', type='Person'), target=Node(id='Camelot', type='Concept'), type='LEGACY'), Relationship(source=Node(id='John F. Kennedy', type='Person'), target=Node(id='Laetare Medal', type='Award'), type='AWARDED'), Relationship(source=Node(id='John F. Kennedy', type='Person'), target=Node(id='Pacem In Terris Award', type='Award'), type='AWARDED'), Relationship(source=Node(id='John F. Kennedy', type='Person'), target=Node(id='Presidential Medal Of Freedom', type='Award'), type='AWARDED'), Relationship(source=Node(id='John F. Kennedy International Airport', type='Location'), target=Node(id='John F. Kennedy', type='Person'), type='RENAMED_IN_HONOR_OF'), Relationship(source=Node(id='John F. Kennedy Space Center', type='Location'), target=Node(id='John F. Kennedy', type='Person'), type='RENAMED_IN_HONOR_OF'), Relationship(source=Node(id='Uss John F. Kennedy (Cv-67)', type='Vessel'), target=Node(id='John F. Kennedy', type='Person'), type='NAMED_IN_HONOR_OF'), Relationship(source=Node(id='John F. Kennedy School Of Government', type='Institution'), target=Node(id='John F. Kennedy', type='Person'), type='RENAMED_IN_HONOR_OF'), Relationship(source=Node(id='John F. Kennedy Federal Building', type='Location'), target=Node(id='John F. Kennedy', type='Person'), type='RENAMED_IN_HONOR_OF'), Relationship(source=Node(id='John Fitzgerald Kennedy Memorial', type='Location'), target=Node(id='John F. Kennedy', type='Person'), type='NAMED_IN_HONOR_OF'), Relationship(source=Node(id='John F. Kennedy Center For The Performing Arts', type='Location'), target=Node(id='John F. Kennedy', type='Person'), type='NAMED_IN_HONOR_OF')], source=Document(metadata={'title': 'John F. Kennedy', 'summary': \"John Fitzgerald Kennedy (May 29, 1917 – November 22, 1963), often referred to as JFK, was an American politician who served as the 35th president of the United States from 1961 until his assassination in 1963. He was the youngest person elected president. Kennedy served at the height of the Cold War, and the majority of his foreign policy concerned relations with the Soviet Union and Cuba. A Democrat, Kennedy represented Massachusetts in both houses of the United States Congress prior to his presidency.\\nBorn into the prominent Kennedy family in Brookline, Massachusetts, Kennedy graduated from Harvard University in 1940, joining the U.S. Naval Reserve the following year. During World War II, he commanded PT boats in the Pacific theater. Kennedy's survival following the sinking of PT-109 and his rescue of his fellow sailors made him a war hero and earned the Navy and Marine Corps Medal, but left him with serious injuries. After a brief stint in journalism, Kennedy represented a working-class Boston district in the U.S. House of Representatives from 1947 to 1953. He was subsequently elected to the U.S. Senate, serving as the junior senator for Massachusetts from 1953 to 1960. While in the Senate, Kennedy published his book, Profiles in Courage, which won a Pulitzer Prize. Kennedy ran in the 1960 presidential election. His campaign gained momentum after the first televised presidential debates in American history, and he was elected president, narrowly defeating Republican opponent Richard Nixon, the incumbent vice president.\\nKennedy's presidency saw high tensions with communist states in the Cold War. He increased the number of American military advisers in South Vietnam, and the Strategic Hamlet Program began during his presidency. In 1961, he authorized attempts to overthrow the Cuban government of Fidel Castro in the failed Bay of Pigs Invasion and Operation Mongoose. In October 1962, U.S. spy planes discovered Soviet missile bases had been deployed in Cuba. The resulting period of tensions, termed the Cuban Missile Crisis, nearly resulted in nuclear war. In August 1961, after East German troops erected the Berlin Wall, Kennedy sent an army convoy to reassure West Berliners of U.S. support, and delivered one of his most famous speeches in West Berlin in June 1963. In 1963, Kennedy signed the first nuclear weapons treaty. He presided over the establishment of the Peace Corps, Alliance for Progress with Latin America, and the continuation of the Apollo program with the goal of landing a man on the Moon before 1970. He supported the civil rights movement but was only somewhat successful in passing his New Frontier domestic policies.\\nOn November 22, 1963, Kennedy was assassinated in Dallas. His vice president, Lyndon B. Johnson, assumed the presidency. Lee Harvey Oswald was arrested for the assassination, but he was shot and killed by Jack Ruby two days later. The FBI and the Warren Commission both concluded Oswald had acted alone, but conspiracy theories about the assassination persist. After Kennedy's death, Congress enacted many of his proposals, including the Civil Rights Act of 1964 and the Revenue Act of 1964. Kennedy ranks highly in polls of U.S. presidents with historians and the general public. His personal life has been the focus of considerable sustained interest following public revelations in the 1970s of his chronic health ailments and extramarital affairs. Kennedy is the most recent U.S. president to have died in office.\", 'source': 'https://en.wikipedia.org/wiki/John_F._Kennedy', 'id': 'a6e500d966b9f3420aa201408477ad17'}, page_content='=== Sports ===\\n\\nKennedy was a fan of Major League Baseball\\'s Boston Red Sox and the National Basketball Association\\'s Boston Celtics. Growing up on Cape Cod, Kennedy and his siblings developed a lifelong passion for sailing. He also took up golf; playing  regularly at the Hyannisport Club in Massachusetts and the Palm Beach Country Club in Florida.\\n\\n\\n=== Religion ===\\n\\nKennedy was the first Roman Catholic elected to the presidency. During his childhood, he attended St. Aidan\\'s Church in Brookline, Massachusetts, where he was baptized on June 19, 1917.\\n\\n\\n== Historical evaluations and legacy ==\\n\\n\\n=== Presidency ===\\n\\nHistorians and political scientists tend to rank Kennedy as an above-average president, and he is usually the highest-ranking president who served less than one full term. A 2014 survey from The Washington Post of 162 members of the American Political Science Association\\'s Presidents and Executive Politics section ranked Kennedy 14th highest overall among the 43 persons who have been president, including then-president Barack Obama. The survey found Kennedy to be the most overrated U.S. president. A 2017 C-SPAN survey has Kennedy ranked among the top ten presidents. A 2023 Gallup, Inc. survey showed Kennedy with a retrospective approval rating of 90 percent, the highest of all U.S. presidents in recent history. Assessments of his policies are mixed. Many of Kennedy\\'s legislative proposals were passed after his death, during the Johnson administration, and Kennedy\\'s death gave those proposals a powerful moral component.\\nKennedy came in third (behind Martin Luther King Jr. and Mother Teresa) in Gallup\\'s List of Widely Admired People of the 20th century. In 1961, he was awarded the Laetare Medal by the University of Notre Dame, considered the most prestigious award for American Catholics. He was posthumously awarded the Pacem in Terris Award (Latin: Peace on Earth) and the Presidential Medal of Freedom.\\n\\n\\n==== Camelot ====\\n\\nThe term \"Camelot\" is often used to describe his presidency, reflecting both the mythic grandeur accorded Kennedy in death and powerful nostalgia for that era of American history. According to Richard Dean Burns and Joseph M. Siracusa, the most popular theme surrounding Kennedy\\'s legacy is its replay of the legend of King Arthur and Camelot from Arthurian Literature. In an interview following Kennedy\\'s death, his widow Jacqueline mentioned his affection for the Broadway musical Camelot and quoted its closing lines: \"Don\\'t let it be forgot, that once there was a spot, for one brief, shining moment that was known as Camelot.\" Critics, especially historians, have mocked the Camelot myth as a distortion of Kennedy\\'s actions, beliefs, and policies. However, in the public memory, the years of Kennedy\\'s presidency are still seen as a brief, brilliant, and shining moment.\\n\\n\\n=== Memorials and eponyms ===\\n\\nExamples of the extensive list include:\\n\\nIdlewild Airport in Queens, New York City, renamed John F. Kennedy International Airport on December 24, 1963\\nNASA Launch Operations Center in Merritt Island, Florida named the John F. Kennedy Space Center on November 29, 1963.\\nUSS John F. Kennedy (CV-67), U.S. Navy aircraft carrier ordered in April 1964, launched May 1967, decommissioned August 2007; nicknamed \"Big John\"\\nKennedy half dollar, first minted in 1964\\nJohn F. Kennedy School of Government, part of Harvard University, renamed in 1966\\nJohn F. Kennedy Federal Building in the Government Center section of Boston, opened in 1966\\nJohn Fitzgerald Kennedy Memorial, opened in 1970 in Dallas\\nNational cultural center was named John F. Kennedy Center for the Performing Arts in 1964, opened in 1971 in Washington, D.C.\\nJohn F. Kennedy Presidential Library and Museum on Columbia Point in Boston; opened in 1979\\nStatue of John F. Kennedy by Isabel McIlvain on the grounds of the Massachusetts State House in Boston; dedicated on May 29, 1990.\\n\\n\\n== Works ==\\n\\n\\n=== Books ===\\nKennedy, John F. (1940). Why England Slept. W. Funk. ISBN 978-1-44-084990-9.\\nKennedy, John F. (1956). Profiles in Courage. Harper & Brothers. ISBN 978-0-06-095544-1.\\nKennedy, John F. (1958). A Nation of Immigrants. Anti-Defamation League. ISBN 978-0-06-144754-9.\\n\\n\\n=== Select speeches ===\\n\\n\\n== See also ==\\nCultural depictions of John F. Kennedy\\nElectoral history of John F. Kennedy\\nHistory of the United States (1945–1964)\\nKennedy Doctrine\\nLincoln–Kennedy coincidences urban legend\\nList of United States presidential assassination attempts and plots\\nPresidential transition of John F. Kennedy\\nPresidents of the United States on U.S. postage stamps\\n\"Senator, you\\'re no Jack Kennedy\" retort by Senator Lloyd Bentsen, 1988 VP debate\\n\\n\\n== Notes ==\\n\\n\\n== References ==\\n\\n\\n=== Citations ===\\n\\n\\n=== Works cited ===\\n\\n\\n== Further reading ==\\n\\n\\n== External links ==\\n\\nJohn F. Kennedy Presidential Library and Museum\\nJohn Fitzgerald Kennedy National Historic Site\\nAppearances on C-SPAN\\nJohn F. Kennedy: A Resource Guide – the Library of Congress\\nExtensive Essays on JFK with shorter essays on his cabinet and First Lady – Miller Center of Public Affairs\\nKennedy Administration from Office of the Historian, United States Government Printing Office\\nWorks by or about John F. Kennedy at the Internet Archive\\nWorks by John F. Kennedy at LibriVox (public domain audiobooks) \\nJohn F. Kennedy at Curlie\\nWorks by John F. Kennedy at Project Gutenberg\\nKennedy Convocation Collection at the Amherst College Archives & Special Collections, documenting one of his last visits before his assassination\\nUnited States Congress. \"John F. Kennedy (id: K000107)\". Biographical Directory of the United States Congress.'))]"
      ]
     },
     "execution_count": 18,
     "metadata": {},
     "output_type": "execute_result"
    }
   ],
   "source": [
    "graph_documents_props"
   ]
  },
  {
   "cell_type": "code",
   "execution_count": null,
   "id": "67456ca9-0d47-4e65-9989-f90d50e4b41c",
   "metadata": {},
   "outputs": [],
   "source": []
  }
 ],
 "metadata": {
  "kernelspec": {
   "display_name": "Python 3 (ipykernel)",
   "language": "python",
   "name": "python3"
  },
  "language_info": {
   "codemirror_mode": {
    "name": "ipython",
    "version": 3
   },
   "file_extension": ".py",
   "mimetype": "text/x-python",
   "name": "python",
   "nbconvert_exporter": "python",
   "pygments_lexer": "ipython3",
   "version": "3.12.3"
  }
 },
 "nbformat": 4,
 "nbformat_minor": 5
}
